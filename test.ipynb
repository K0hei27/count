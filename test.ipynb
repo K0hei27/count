{
 "cells": [
  {
   "cell_type": "markdown",
   "metadata": {},
   "source": [
    "# nltk調査"
   ]
  },
  {
   "cell_type": "markdown",
   "metadata": {},
   "source": [
    "## したいこと\n",
    "### 必要要件\n",
    "* 名詞の複数形を単数形に戻す\n",
    "* 動詞の活用を原型に戻す\n",
    "### better\n",
    "* 副詞、形容詞を動詞に戻す\n",
    "\n"
   ]
  },
  {
   "cell_type": "code",
   "execution_count": 1,
   "metadata": {
    "scrolled": true
   },
   "outputs": [
    {
     "data": {
      "text/plain": [
       "['You', 'have', 'eaten', 'lunch', ',', 'have', \"n't\", 'you', '?']"
      ]
     },
     "execution_count": 1,
     "metadata": {},
     "output_type": "execute_result"
    }
   ],
   "source": [
    "import nltk\n",
    "sentence = \"You have eaten lunch, haven't you?\"\n",
    "nltk.word_tokenize(sentence)"
   ]
  },
  {
   "cell_type": "code",
   "execution_count": 2,
   "metadata": {},
   "outputs": [
    {
     "data": {
      "text/plain": [
       "'dog'"
      ]
     },
     "execution_count": 2,
     "metadata": {},
     "output_type": "execute_result"
    }
   ],
   "source": [
    "from nltk.stem.porter import PorterStemmer as PS\n",
    "ps = PS()\n",
    "ps.stem(\"dogs\")"
   ]
  },
  {
   "cell_type": "code",
   "execution_count": 3,
   "metadata": {},
   "outputs": [
    {
     "data": {
      "text/plain": [
       "('cat', 'ceil')"
      ]
     },
     "execution_count": 3,
     "metadata": {},
     "output_type": "execute_result"
    }
   ],
   "source": [
    "ps.stem(\"cats\"),ps.stem(\"ceiling\")"
   ]
  },
  {
   "cell_type": "code",
   "execution_count": 4,
   "metadata": {},
   "outputs": [
    {
     "data": {
      "text/plain": [
       "('good', 'better')"
      ]
     },
     "execution_count": 4,
     "metadata": {},
     "output_type": "execute_result"
    }
   ],
   "source": [
    "ps.stem(\"good\"), ps.stem(\"better\")"
   ]
  },
  {
   "cell_type": "code",
   "execution_count": 5,
   "metadata": {},
   "outputs": [
    {
     "data": {
      "text/plain": [
       "('theori', 'deepli')"
      ]
     },
     "execution_count": 5,
     "metadata": {},
     "output_type": "execute_result"
    }
   ],
   "source": [
    "ps.stem('theories'),ps.stem('deeply'),"
   ]
  },
  {
   "cell_type": "code",
   "execution_count": 6,
   "metadata": {},
   "outputs": [],
   "source": [
    "from nltk.stem.lancaster import LancasterStemmer as LS\n",
    "ls = LS()"
   ]
  },
  {
   "cell_type": "code",
   "execution_count": 7,
   "metadata": {},
   "outputs": [
    {
     "data": {
      "text/plain": [
       "'dog'"
      ]
     },
     "execution_count": 7,
     "metadata": {},
     "output_type": "execute_result"
    }
   ],
   "source": [
    "ls.stem(\"dogs\")"
   ]
  },
  {
   "cell_type": "code",
   "execution_count": 8,
   "metadata": {},
   "outputs": [
    {
     "data": {
      "text/plain": [
       "('the', 'deeply')"
      ]
     },
     "execution_count": 8,
     "metadata": {},
     "output_type": "execute_result"
    }
   ],
   "source": [
    "ls.stem(\"theories\"),ls.stem(\"deeply\")"
   ]
  },
  {
   "cell_type": "code",
   "execution_count": 9,
   "metadata": {},
   "outputs": [
    {
     "data": {
      "text/plain": [
       "'dog'"
      ]
     },
     "execution_count": 9,
     "metadata": {},
     "output_type": "execute_result"
    }
   ],
   "source": [
    "from nltk import stem\n",
    "wnl = stem.WordNetLemmatizer()\n",
    "#複数形を単数形に戻すことができる \n",
    "wnl.lemmatize(\"dogs\")"
   ]
  },
  {
   "cell_type": "code",
   "execution_count": 10,
   "metadata": {},
   "outputs": [
    {
     "data": {
      "text/plain": [
       "('cat', 'ceiling')"
      ]
     },
     "execution_count": 10,
     "metadata": {},
     "output_type": "execute_result"
    }
   ],
   "source": [
    "wnl.lemmatize(\"cats\"), wnl.lemmatize(\"ceiling\",pos='v')"
   ]
  },
  {
   "cell_type": "code",
   "execution_count": 11,
   "metadata": {},
   "outputs": [
    {
     "data": {
      "text/plain": [
       "('good', 'good')"
      ]
     },
     "execution_count": 11,
     "metadata": {},
     "output_type": "execute_result"
    }
   ],
   "source": [
    "wnl.lemmatize(\"good\", pos=\"a\"), wnl.lemmatize(\"better\", pos=\"a\")"
   ]
  },
  {
   "cell_type": "code",
   "execution_count": 12,
   "metadata": {
    "scrolled": true
   },
   "outputs": [
    {
     "data": {
      "text/plain": [
       "('theory', 'deeply')"
      ]
     },
     "execution_count": 12,
     "metadata": {},
     "output_type": "execute_result"
    }
   ],
   "source": [
    "wnl.lemmatize(\"theories\"),wnl.lemmatize(\"deeply\")"
   ]
  },
  {
   "cell_type": "code",
   "execution_count": 13,
   "metadata": {},
   "outputs": [],
   "source": [
    "from nltk.corpus import wordnet as wn"
   ]
  },
  {
   "cell_type": "code",
   "execution_count": 14,
   "metadata": {},
   "outputs": [
    {
     "data": {
      "text/plain": [
       "'copy'"
      ]
     },
     "execution_count": 14,
     "metadata": {},
     "output_type": "execute_result"
    }
   ],
   "source": [
    "wn.morphy('copied')"
   ]
  },
  {
   "cell_type": "code",
   "execution_count": 15,
   "metadata": {},
   "outputs": [
    {
     "name": "stdout",
     "output_type": "stream",
     "text": [
      "None\n"
     ]
    }
   ],
   "source": [
    "print(wn.morphy('Newton'))"
   ]
  },
  {
   "cell_type": "markdown",
   "metadata": {},
   "source": [
    "## 実装"
   ]
  },
  {
   "cell_type": "code",
   "execution_count": 16,
   "metadata": {},
   "outputs": [],
   "source": [
    "# データ読み込み-------------------------\n",
    "# ファイルを開く\n",
    "with open('sample01.txt') as f:\n",
    "    # ファイルの内容を読み出す\n",
    "    data = f.read()\n",
    "    data = data.lower()  # 小文字にするならこのタイミングが楽"
   ]
  },
  {
   "cell_type": "code",
   "execution_count": 17,
   "metadata": {},
   "outputs": [
    {
     "data": {
      "text/plain": [
       "'like galileo, newton stressed the importance of comparing theories and models with experiments and observations of the real world, and always carried out relevant experiments himself, whenever possible, to test his ideas. this is so deeply ingrained as part of the scientific method today that it may seem obvious, even to non-scientists, and it is hard to appreciate the extent to which, even into the seventeenth century, many philosophers would speculate about the nature of the physical world in an abstract way, without ever getting their hands dirty in experiments. the classic example is the argument about whether two different weights dropped from the same height at the same time would hit the ground together.'"
      ]
     },
     "execution_count": 17,
     "metadata": {},
     "output_type": "execute_result"
    }
   ],
   "source": [
    "data"
   ]
  },
  {
   "cell_type": "code",
   "execution_count": 18,
   "metadata": {},
   "outputs": [],
   "source": [
    "word_list = []\n",
    "for word in data.split():\n",
    "    word_list.append(word)"
   ]
  },
  {
   "cell_type": "code",
   "execution_count": 19,
   "metadata": {},
   "outputs": [
    {
     "data": {
      "text/plain": [
       "['like',\n",
       " 'galileo,',\n",
       " 'newton',\n",
       " 'stressed',\n",
       " 'the',\n",
       " 'importance',\n",
       " 'of',\n",
       " 'comparing',\n",
       " 'theories',\n",
       " 'and',\n",
       " 'models',\n",
       " 'with',\n",
       " 'experiments',\n",
       " 'and',\n",
       " 'observations',\n",
       " 'of',\n",
       " 'the',\n",
       " 'real',\n",
       " 'world,',\n",
       " 'and',\n",
       " 'always',\n",
       " 'carried',\n",
       " 'out',\n",
       " 'relevant',\n",
       " 'experiments',\n",
       " 'himself,',\n",
       " 'whenever',\n",
       " 'possible,',\n",
       " 'to',\n",
       " 'test',\n",
       " 'his',\n",
       " 'ideas.',\n",
       " 'this',\n",
       " 'is',\n",
       " 'so',\n",
       " 'deeply',\n",
       " 'ingrained',\n",
       " 'as',\n",
       " 'part',\n",
       " 'of',\n",
       " 'the',\n",
       " 'scientific',\n",
       " 'method',\n",
       " 'today',\n",
       " 'that',\n",
       " 'it',\n",
       " 'may',\n",
       " 'seem',\n",
       " 'obvious,',\n",
       " 'even',\n",
       " 'to',\n",
       " 'non-scientists,',\n",
       " 'and',\n",
       " 'it',\n",
       " 'is',\n",
       " 'hard',\n",
       " 'to',\n",
       " 'appreciate',\n",
       " 'the',\n",
       " 'extent',\n",
       " 'to',\n",
       " 'which,',\n",
       " 'even',\n",
       " 'into',\n",
       " 'the',\n",
       " 'seventeenth',\n",
       " 'century,',\n",
       " 'many',\n",
       " 'philosophers',\n",
       " 'would',\n",
       " 'speculate',\n",
       " 'about',\n",
       " 'the',\n",
       " 'nature',\n",
       " 'of',\n",
       " 'the',\n",
       " 'physical',\n",
       " 'world',\n",
       " 'in',\n",
       " 'an',\n",
       " 'abstract',\n",
       " 'way,',\n",
       " 'without',\n",
       " 'ever',\n",
       " 'getting',\n",
       " 'their',\n",
       " 'hands',\n",
       " 'dirty',\n",
       " 'in',\n",
       " 'experiments.',\n",
       " 'the',\n",
       " 'classic',\n",
       " 'example',\n",
       " 'is',\n",
       " 'the',\n",
       " 'argument',\n",
       " 'about',\n",
       " 'whether',\n",
       " 'two',\n",
       " 'different',\n",
       " 'weights',\n",
       " 'dropped',\n",
       " 'from',\n",
       " 'the',\n",
       " 'same',\n",
       " 'height',\n",
       " 'at',\n",
       " 'the',\n",
       " 'same',\n",
       " 'time',\n",
       " 'would',\n",
       " 'hit',\n",
       " 'the',\n",
       " 'ground',\n",
       " 'together.']"
      ]
     },
     "execution_count": 19,
     "metadata": {},
     "output_type": "execute_result"
    }
   ],
   "source": [
    "word_list"
   ]
  },
  {
   "cell_type": "code",
   "execution_count": 20,
   "metadata": {},
   "outputs": [],
   "source": [
    "lem_word_list = []\n",
    "for word in word_list:\n",
    "    lem_word = wnl.lemmatize(word)\n",
    "    lem_word_list.append(lem_word)"
   ]
  },
  {
   "cell_type": "code",
   "execution_count": 21,
   "metadata": {},
   "outputs": [
    {
     "data": {
      "text/plain": [
       "['like',\n",
       " 'galileo,',\n",
       " 'newton',\n",
       " 'stressed',\n",
       " 'the',\n",
       " 'importance',\n",
       " 'of',\n",
       " 'comparing',\n",
       " 'theory',\n",
       " 'and',\n",
       " 'model',\n",
       " 'with',\n",
       " 'experiment',\n",
       " 'and',\n",
       " 'observation',\n",
       " 'of',\n",
       " 'the',\n",
       " 'real',\n",
       " 'world,',\n",
       " 'and',\n",
       " 'always',\n",
       " 'carried',\n",
       " 'out',\n",
       " 'relevant',\n",
       " 'experiment',\n",
       " 'himself,',\n",
       " 'whenever',\n",
       " 'possible,',\n",
       " 'to',\n",
       " 'test',\n",
       " 'his',\n",
       " 'ideas.',\n",
       " 'this',\n",
       " 'is',\n",
       " 'so',\n",
       " 'deeply',\n",
       " 'ingrained',\n",
       " 'a',\n",
       " 'part',\n",
       " 'of',\n",
       " 'the',\n",
       " 'scientific',\n",
       " 'method',\n",
       " 'today',\n",
       " 'that',\n",
       " 'it',\n",
       " 'may',\n",
       " 'seem',\n",
       " 'obvious,',\n",
       " 'even',\n",
       " 'to',\n",
       " 'non-scientists,',\n",
       " 'and',\n",
       " 'it',\n",
       " 'is',\n",
       " 'hard',\n",
       " 'to',\n",
       " 'appreciate',\n",
       " 'the',\n",
       " 'extent',\n",
       " 'to',\n",
       " 'which,',\n",
       " 'even',\n",
       " 'into',\n",
       " 'the',\n",
       " 'seventeenth',\n",
       " 'century,',\n",
       " 'many',\n",
       " 'philosopher',\n",
       " 'would',\n",
       " 'speculate',\n",
       " 'about',\n",
       " 'the',\n",
       " 'nature',\n",
       " 'of',\n",
       " 'the',\n",
       " 'physical',\n",
       " 'world',\n",
       " 'in',\n",
       " 'an',\n",
       " 'abstract',\n",
       " 'way,',\n",
       " 'without',\n",
       " 'ever',\n",
       " 'getting',\n",
       " 'their',\n",
       " 'hand',\n",
       " 'dirty',\n",
       " 'in',\n",
       " 'experiments.',\n",
       " 'the',\n",
       " 'classic',\n",
       " 'example',\n",
       " 'is',\n",
       " 'the',\n",
       " 'argument',\n",
       " 'about',\n",
       " 'whether',\n",
       " 'two',\n",
       " 'different',\n",
       " 'weight',\n",
       " 'dropped',\n",
       " 'from',\n",
       " 'the',\n",
       " 'same',\n",
       " 'height',\n",
       " 'at',\n",
       " 'the',\n",
       " 'same',\n",
       " 'time',\n",
       " 'would',\n",
       " 'hit',\n",
       " 'the',\n",
       " 'ground',\n",
       " 'together.']"
      ]
     },
     "execution_count": 21,
     "metadata": {},
     "output_type": "execute_result"
    }
   ],
   "source": [
    "lem_word_list"
   ]
  },
  {
   "cell_type": "code",
   "execution_count": 22,
   "metadata": {},
   "outputs": [],
   "source": [
    "stem_word_list = []\n",
    "for word in word_list:\n",
    "    stem_word = ps.stem(word)\n",
    "    stem_word_list.append(stem_word)"
   ]
  },
  {
   "cell_type": "code",
   "execution_count": 23,
   "metadata": {},
   "outputs": [
    {
     "data": {
      "text/plain": [
       "['like',\n",
       " 'galileo,',\n",
       " 'newton',\n",
       " 'stress',\n",
       " 'the',\n",
       " 'import',\n",
       " 'of',\n",
       " 'compar',\n",
       " 'theori',\n",
       " 'and',\n",
       " 'model',\n",
       " 'with',\n",
       " 'experi',\n",
       " 'and',\n",
       " 'observ',\n",
       " 'of',\n",
       " 'the',\n",
       " 'real',\n",
       " 'world,',\n",
       " 'and',\n",
       " 'alway',\n",
       " 'carri',\n",
       " 'out',\n",
       " 'relev',\n",
       " 'experi',\n",
       " 'himself,',\n",
       " 'whenev',\n",
       " 'possible,',\n",
       " 'to',\n",
       " 'test',\n",
       " 'hi',\n",
       " 'ideas.',\n",
       " 'thi',\n",
       " 'is',\n",
       " 'so',\n",
       " 'deepli',\n",
       " 'ingrain',\n",
       " 'as',\n",
       " 'part',\n",
       " 'of',\n",
       " 'the',\n",
       " 'scientif',\n",
       " 'method',\n",
       " 'today',\n",
       " 'that',\n",
       " 'it',\n",
       " 'may',\n",
       " 'seem',\n",
       " 'obvious,',\n",
       " 'even',\n",
       " 'to',\n",
       " 'non-scientists,',\n",
       " 'and',\n",
       " 'it',\n",
       " 'is',\n",
       " 'hard',\n",
       " 'to',\n",
       " 'appreci',\n",
       " 'the',\n",
       " 'extent',\n",
       " 'to',\n",
       " 'which,',\n",
       " 'even',\n",
       " 'into',\n",
       " 'the',\n",
       " 'seventeenth',\n",
       " 'century,',\n",
       " 'mani',\n",
       " 'philosoph',\n",
       " 'would',\n",
       " 'specul',\n",
       " 'about',\n",
       " 'the',\n",
       " 'natur',\n",
       " 'of',\n",
       " 'the',\n",
       " 'physic',\n",
       " 'world',\n",
       " 'in',\n",
       " 'an',\n",
       " 'abstract',\n",
       " 'way,',\n",
       " 'without',\n",
       " 'ever',\n",
       " 'get',\n",
       " 'their',\n",
       " 'hand',\n",
       " 'dirti',\n",
       " 'in',\n",
       " 'experiments.',\n",
       " 'the',\n",
       " 'classic',\n",
       " 'exampl',\n",
       " 'is',\n",
       " 'the',\n",
       " 'argument',\n",
       " 'about',\n",
       " 'whether',\n",
       " 'two',\n",
       " 'differ',\n",
       " 'weight',\n",
       " 'drop',\n",
       " 'from',\n",
       " 'the',\n",
       " 'same',\n",
       " 'height',\n",
       " 'at',\n",
       " 'the',\n",
       " 'same',\n",
       " 'time',\n",
       " 'would',\n",
       " 'hit',\n",
       " 'the',\n",
       " 'ground',\n",
       " 'together.']"
      ]
     },
     "execution_count": 23,
     "metadata": {},
     "output_type": "execute_result"
    }
   ],
   "source": [
    "stem_word_list"
   ]
  },
  {
   "cell_type": "code",
   "execution_count": 24,
   "metadata": {},
   "outputs": [],
   "source": [
    "wn_word_list = []\n",
    "for word in word_list:\n",
    "    wn_word = wn.morphy(word)\n",
    "    wn_word_list.append(wn_word)"
   ]
  },
  {
   "cell_type": "code",
   "execution_count": 25,
   "metadata": {},
   "outputs": [
    {
     "data": {
      "text/plain": [
       "['like',\n",
       " None,\n",
       " 'newton',\n",
       " 'stress',\n",
       " None,\n",
       " 'importance',\n",
       " None,\n",
       " 'comparing',\n",
       " 'theory',\n",
       " None,\n",
       " 'model',\n",
       " None,\n",
       " 'experiment',\n",
       " None,\n",
       " 'observation',\n",
       " None,\n",
       " None,\n",
       " 'real',\n",
       " None,\n",
       " None,\n",
       " 'always',\n",
       " 'carry',\n",
       " 'out',\n",
       " 'relevant',\n",
       " 'experiment',\n",
       " None,\n",
       " None,\n",
       " None,\n",
       " None,\n",
       " 'test',\n",
       " None,\n",
       " None,\n",
       " None,\n",
       " 'be',\n",
       " 'so',\n",
       " 'deeply',\n",
       " 'ingrain',\n",
       " 'as',\n",
       " 'part',\n",
       " None,\n",
       " None,\n",
       " 'scientific',\n",
       " 'method',\n",
       " 'today',\n",
       " None,\n",
       " 'it',\n",
       " 'may',\n",
       " 'seem',\n",
       " None,\n",
       " 'even',\n",
       " None,\n",
       " None,\n",
       " None,\n",
       " 'it',\n",
       " 'be',\n",
       " 'hard',\n",
       " None,\n",
       " 'appreciate',\n",
       " None,\n",
       " 'extent',\n",
       " None,\n",
       " None,\n",
       " 'even',\n",
       " None,\n",
       " None,\n",
       " 'seventeenth',\n",
       " None,\n",
       " 'many',\n",
       " 'philosopher',\n",
       " None,\n",
       " 'speculate',\n",
       " 'about',\n",
       " None,\n",
       " 'nature',\n",
       " None,\n",
       " None,\n",
       " 'physical',\n",
       " 'world',\n",
       " 'in',\n",
       " 'an',\n",
       " 'abstract',\n",
       " None,\n",
       " None,\n",
       " 'ever',\n",
       " 'getting',\n",
       " None,\n",
       " 'hands',\n",
       " 'dirty',\n",
       " 'in',\n",
       " None,\n",
       " None,\n",
       " 'classic',\n",
       " 'example',\n",
       " 'be',\n",
       " None,\n",
       " 'argument',\n",
       " 'about',\n",
       " None,\n",
       " 'two',\n",
       " 'different',\n",
       " 'weight',\n",
       " 'drop',\n",
       " None,\n",
       " None,\n",
       " 'same',\n",
       " 'height',\n",
       " 'at',\n",
       " None,\n",
       " 'same',\n",
       " 'time',\n",
       " None,\n",
       " 'hit',\n",
       " None,\n",
       " 'ground',\n",
       " None]"
      ]
     },
     "execution_count": 25,
     "metadata": {},
     "output_type": "execute_result"
    }
   ],
   "source": [
    "wn_word_list"
   ]
  },
  {
   "cell_type": "code",
   "execution_count": 26,
   "metadata": {
    "scrolled": true
   },
   "outputs": [
    {
     "name": "stdout",
     "output_type": "stream",
     "text": [
      "12 the\n",
      "4 to\n",
      "4 of\n",
      "4 and\n",
      "3 is\n",
      "2 would\n",
      "2 same\n",
      "2 it\n",
      "2 in\n",
      "2 experi\n",
      "2 even\n",
      "2 about\n",
      "1 world,\n",
      "1 world\n",
      "1 without\n",
      "1 with\n",
      "1 which,\n",
      "1 whether\n",
      "1 whenev\n",
      "1 weight\n",
      "1 way,\n",
      "1 two\n",
      "1 together.\n",
      "1 today\n",
      "1 time\n",
      "1 thi\n",
      "1 theori\n",
      "1 their\n",
      "1 that\n",
      "1 test\n",
      "1 stress\n",
      "1 specul\n",
      "1 so\n",
      "1 seventeenth\n",
      "1 seem\n",
      "1 scientif\n",
      "1 relev\n",
      "1 real\n",
      "1 possible,\n",
      "1 physic\n",
      "1 philosoph\n",
      "1 part\n",
      "1 out\n",
      "1 obvious,\n",
      "1 observ\n",
      "1 non-scientists,\n",
      "1 newton\n",
      "1 natur\n",
      "1 model\n",
      "1 method\n",
      "1 may\n",
      "1 mani\n",
      "1 like\n",
      "1 into\n",
      "1 ingrain\n",
      "1 import\n",
      "1 ideas.\n",
      "1 hit\n",
      "1 himself,\n",
      "1 hi\n",
      "1 height\n",
      "1 hard\n",
      "1 hand\n",
      "1 ground\n",
      "1 get\n",
      "1 galileo,\n",
      "1 from\n",
      "1 extent\n",
      "1 experiments.\n",
      "1 exampl\n",
      "1 ever\n",
      "1 drop\n",
      "1 dirti\n",
      "1 differ\n",
      "1 deepli\n",
      "1 compar\n",
      "1 classic\n",
      "1 century,\n",
      "1 carri\n",
      "1 at\n",
      "1 as\n",
      "1 argument\n",
      "1 appreci\n",
      "1 an\n",
      "1 alway\n",
      "1 abstract\n"
     ]
    }
   ],
   "source": [
    "words = {}\n",
    "# split()でスペースと改行で分割したリストから単語を取り出す\n",
    "for word in stem_word_list:\n",
    "    # 単語をキーとして値に1を足していく。\n",
    "    # 辞書に単語がない、すなわち初めて辞書に登録するときは0+1になる。\n",
    "    words[word] = words.get(word, 0) + 1  #\n",
    "\n",
    "# リストに取り出して単語の出現回数でソート\n",
    "d = [(v, k) for k, v in words.items()]\n",
    "d.sort()\n",
    "d.reverse()\n",
    "\n",
    "# 標準出力-------------------------\n",
    "for count, word in d[:100]:\n",
    "    print(count, word)"
   ]
  },
  {
   "cell_type": "code",
   "execution_count": 27,
   "metadata": {},
   "outputs": [
    {
     "data": {
      "text/plain": [
       "<Figure size 1000x500 with 1 Axes>"
      ]
     },
     "metadata": {},
     "output_type": "display_data"
    }
   ],
   "source": [
    "import matplotlib.pyplot as plt\n",
    "\n",
    "x = [d[:20][i][1] for i in range(0,20)]\n",
    "y = [d[:20][i][0] for i in range(0,20)]\n",
    "\n",
    "plt.figure(figsize=(10,5))\n",
    "plt.bar(x, y)\n",
    "plt.xticks(rotation=90)\n",
    "plt.xlim(-1,100)\n",
    "plt.title('Couting Words')\n",
    "plt.xlabel('Word')\n",
    "plt.ylabel('Number')\n",
    "plt.show()"
   ]
  },
  {
   "cell_type": "code",
   "execution_count": 28,
   "metadata": {},
   "outputs": [],
   "source": [
    "# 単語カウント-------------------------\n",
    "import collections\n",
    "\n",
    "# 引数にiterableオブジェクトまたはmappingオブジェクトを渡すと\n",
    "# 要素と出現回数の組み合わせのオブジェクトを返す\n",
    "counter = collections.Counter(stem_word_list)\n",
    "\n",
    "# 出現回数が大きい順に並べたタプルのリストを返す\n",
    "# 例：[('the', 2480), ('I', 1661), ('to', 1427)]\n",
    "d = counter.most_common()"
   ]
  },
  {
   "cell_type": "code",
   "execution_count": 29,
   "metadata": {
    "scrolled": true
   },
   "outputs": [
    {
     "data": {
      "text/plain": [
       "[('the', 12),\n",
       " ('of', 4),\n",
       " ('and', 4),\n",
       " ('to', 4),\n",
       " ('is', 3),\n",
       " ('experi', 2),\n",
       " ('it', 2),\n",
       " ('even', 2),\n",
       " ('would', 2),\n",
       " ('about', 2),\n",
       " ('in', 2),\n",
       " ('same', 2),\n",
       " ('like', 1),\n",
       " ('galileo,', 1),\n",
       " ('newton', 1),\n",
       " ('stress', 1),\n",
       " ('import', 1),\n",
       " ('compar', 1),\n",
       " ('theori', 1),\n",
       " ('model', 1),\n",
       " ('with', 1),\n",
       " ('observ', 1),\n",
       " ('real', 1),\n",
       " ('world,', 1),\n",
       " ('alway', 1),\n",
       " ('carri', 1),\n",
       " ('out', 1),\n",
       " ('relev', 1),\n",
       " ('himself,', 1),\n",
       " ('whenev', 1),\n",
       " ('possible,', 1),\n",
       " ('test', 1),\n",
       " ('hi', 1),\n",
       " ('ideas.', 1),\n",
       " ('thi', 1),\n",
       " ('so', 1),\n",
       " ('deepli', 1),\n",
       " ('ingrain', 1),\n",
       " ('as', 1),\n",
       " ('part', 1),\n",
       " ('scientif', 1),\n",
       " ('method', 1),\n",
       " ('today', 1),\n",
       " ('that', 1),\n",
       " ('may', 1),\n",
       " ('seem', 1),\n",
       " ('obvious,', 1),\n",
       " ('non-scientists,', 1),\n",
       " ('hard', 1),\n",
       " ('appreci', 1),\n",
       " ('extent', 1),\n",
       " ('which,', 1),\n",
       " ('into', 1),\n",
       " ('seventeenth', 1),\n",
       " ('century,', 1),\n",
       " ('mani', 1),\n",
       " ('philosoph', 1),\n",
       " ('specul', 1),\n",
       " ('natur', 1),\n",
       " ('physic', 1),\n",
       " ('world', 1),\n",
       " ('an', 1),\n",
       " ('abstract', 1),\n",
       " ('way,', 1),\n",
       " ('without', 1),\n",
       " ('ever', 1),\n",
       " ('get', 1),\n",
       " ('their', 1),\n",
       " ('hand', 1),\n",
       " ('dirti', 1),\n",
       " ('experiments.', 1),\n",
       " ('classic', 1),\n",
       " ('exampl', 1),\n",
       " ('argument', 1),\n",
       " ('whether', 1),\n",
       " ('two', 1),\n",
       " ('differ', 1),\n",
       " ('weight', 1),\n",
       " ('drop', 1),\n",
       " ('from', 1),\n",
       " ('height', 1),\n",
       " ('at', 1),\n",
       " ('time', 1),\n",
       " ('hit', 1),\n",
       " ('ground', 1),\n",
       " ('together.', 1)]"
      ]
     },
     "execution_count": 29,
     "metadata": {},
     "output_type": "execute_result"
    }
   ],
   "source": [
    "d"
   ]
  },
  {
   "cell_type": "code",
   "execution_count": null,
   "metadata": {},
   "outputs": [],
   "source": []
  }
 ],
 "metadata": {
  "kernelspec": {
   "display_name": "Python 3",
   "language": "python",
   "name": "python3"
  },
  "language_info": {
   "codemirror_mode": {
    "name": "ipython",
    "version": 3
   },
   "file_extension": ".py",
   "mimetype": "text/x-python",
   "name": "python",
   "nbconvert_exporter": "python",
   "pygments_lexer": "ipython3",
   "version": "3.7.4"
  }
 },
 "nbformat": 4,
 "nbformat_minor": 2
}
